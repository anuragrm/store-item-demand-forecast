{
 "cells": [
  {
   "cell_type": "markdown",
   "id": "d4e0f6f9",
   "metadata": {},
   "source": [
    "# Store-Item Sales Forecasting"
   ]
  },
  {
   "cell_type": "code",
   "execution_count": null,
   "id": "9de45dd9",
   "metadata": {
    "tags": []
   },
   "outputs": [],
   "source": [
    "%load_ext lab_black\n",
    "%load_ext autoreload\n",
    "%autoreload 2"
   ]
  },
  {
   "cell_type": "code",
   "execution_count": null,
   "id": "6efa65dc",
   "metadata": {
    "tags": []
   },
   "outputs": [],
   "source": [
    "from time import time\n",
    "\n",
    "import altair as alt\n",
    "import matplotlib.pyplot as plt\n",
    "import numpy as np\n",
    "import pandas as pd\n",
    "from sklearn.compose import ColumnTransformer\n",
    "from sklearn.pipeline import Pipeline"
   ]
  },
  {
   "cell_type": "code",
   "execution_count": null,
   "id": "f59bf4a0",
   "metadata": {
    "tags": []
   },
   "outputs": [],
   "source": [
    "%aimport src.altair_helpers\n",
    "from src.altair_helpers import altair_datetime_heatmap_grid, ts_plot\n",
    "\n",
    "%aimport src.cv_helpers\n",
    "from src.cv_helpers import MultiTimeSeriesDateSplit\n",
    "\n",
    "%aimport src.data_custom_transformers\n",
    "import src.data_custom_transformers as ct\n",
    "\n",
    "%aimport src.data_helpers\n",
    "from src.data_helpers import az_load_data\n",
    "\n",
    "%aimport src.inference_helpers\n",
    "from src.inference_helpers import predict_future\n",
    "\n",
    "%aimport src.ml_helpers\n",
    "import src.ml_helpers as mlh\n",
    "\n",
    "%aimport src.ml_metrics\n",
    "from src.ml_metrics import lgbm_smape, lgbm_smape_sklearn\n",
    "\n",
    "%aimport src.utils\n",
    "from src.utils import score_model\n",
    "\n",
    "%aimport src.visualization_helpers\n",
    "from src.visualization_helpers import plot_store_item_grid, show_splits"
   ]
  },
  {
   "cell_type": "code",
   "execution_count": null,
   "id": "e32d6095",
   "metadata": {
    "tags": []
   },
   "outputs": [],
   "source": [
    "pd.set_option(\"display.max_rows\", 150)"
   ]
  },
  {
   "cell_type": "markdown",
   "id": "6ebe3a37",
   "metadata": {},
   "source": [
    "<a href=\"table-of-contents\"></a>\n",
    "\n",
    "## [Table of Contents](#table-of-contents)\n",
    "0. [About](#about)\n",
    "1. [User Inputs](#user-inputs)\n",
    "2. [Load Data](#load-data)\n",
    "   - 2.1. [Read Data](#read-data)\n",
    "   - 2.2. [Sort Data](#read-data)\n",
    "   - 2.3. [Create Usable Data by Dropping Observations in Trailing Gap](#create-usable-data-by-dropping-observations-in-trailing-gap)\n",
    "   - 2.4. [Create Overall Train-Test Splits, separated by a gap, from Usable Data](#create-overall-train-test-splits-,-separated-by-a-gap,-from-usable-data)\n",
    "   - 2.5. [Set Multi-Index to Support CV Splitter](#set-multi-index-to-support-cv-splitter)\n",
    "   - 2.6. [Exploratory Data Analysis](#exploratory-data-analysis)\n",
    "     - 2.6.1. [Visualize Historical Sales for 10 store-item combos](#visualize-historical-sales-for-10-store-item-combos)\n",
    "     - 2.6.2. [Check Normality](#check-normality)\n",
    "     - 2.6.3. [TimeSeries Plots](#timeseries-plots)\n",
    "3. [Cross Validation](#cross-validation)\n",
    "   - 3.1. [Inspect Cross-Validation Folds](#inspect-cross-validation-folds)\n",
    "   - 3.2. [Perform Cross-Validation](#perform-cross-validation)\n",
    "   - 3.3. [Get best Model Hyper-parameters from Cross-Validation](#get-best-model-hyper-parameters-from-cross-validation)\n",
    "4. [Model Evaluation](#model-evaluation)\n",
    "   - 4.1. [Train on Overall Training Split, Skip over Gap, Predict Overall Testing Split](#train-on-overall-training-split,-skip-over-gap,-predict-overall-testing-split)\n",
    "   - 4.2. [Retrieve True and Predicted Values of Overall Testing Split](#retrieve-true-and-predicted-values-of-overall-testing-split)\n",
    "   - 4.3. [Model Assessment on Overall Testing Split](#model-assessment-on-overall-testing-split)\n",
    "5. [Predict into the Future](#predict-into-the-future)\n",
    "   - 5.1. [Read in all Data](#read-in-all-data)\n",
    "   - 5.2. [Sort all Data](#sort-all-data)\n",
    "   - 5.3. [Create Usable Data by Dropping Observations in Trailing Gap from all Data](#create-usable-data-by-dropping-observations-in-trailing-gap-from-all-data)\n",
    "   - 5.4. [Set Multi-Index to Support CV Splitter for all Data](#set-multi-index-to-support-cv-splitter-for-all-data)\n",
    "   - 5.5. [Make Predictions](#make-predictions)\n",
    "6. [Notes](#notes)"
   ]
  },
  {
   "cell_type": "markdown",
   "id": "d112e8fe",
   "metadata": {},
   "source": [
    "<a id=\"about\"></a>\n",
    "\n",
    "## 0. [About](#about)"
   ]
  },
  {
   "cell_type": "markdown",
   "id": "dd9a84c7",
   "metadata": {},
   "source": [
    "Here, Machine Learning (ML) will be used to generate sales forecasts (quantity) for each of 50 items being sold in 10 separate stores."
   ]
  },
  {
   "cell_type": "markdown",
   "id": "df9cf583",
   "metadata": {},
   "source": [
    "<a id=\"user-inputs\"></a>\n",
    "\n",
    "## 1. [User Inputs](#user-inputs)"
   ]
  },
  {
   "cell_type": "code",
   "execution_count": null,
   "id": "c304d224",
   "metadata": {
    "tags": [
     "parameters"
    ]
   },
   "outputs": [],
   "source": [
    "# ts_plot inputs\n",
    "plot_xvar = \"date\"\n",
    "plot_yvar = \"sales\"\n",
    "roll_window = 365\n",
    "hist_bin_step_size = 5\n",
    "n_lags = 50\n",
    "alpha = 0.05\n",
    "ci_band_opacity = 0.5\n",
    "fig_size = [370, 275]\n",
    "corr_plots_wanted = [\"acf\", \"pacf\"]\n",
    "\n",
    "# Heatmap inputs\n",
    "heatmap_agg = \"median\"\n",
    "\n",
    "# ML Inputs 1/2\n",
    "N_SPLITS = 5\n",
    "HORIZON = 90\n",
    "GAP = 90\n",
    "\n",
    "# ML Inputs 2/2\n",
    "lags_range = [90, 120]\n",
    "window_size = 180\n",
    "used_columns = [\n",
    "    \"store\",\n",
    "    \"item\",\n",
    "    \"date\",\n",
    "    \"sales\",\n",
    "]\n",
    "categ_fea = [\"store\", \"item\"]"
   ]
  },
  {
   "cell_type": "code",
   "execution_count": null,
   "id": "fec93df6",
   "metadata": {},
   "outputs": [],
   "source": [
    "az_storage_container_name = \"myconedesx7\"\n",
    "blob_dict_inputs = {\n",
    "    \"blobedesz36\": \"train\",\n",
    "    \"blobedesz37\": \"test\",\n",
    "}\n",
    "\n",
    "fig_size = tuple(fig_size)\n",
    "ts_tooltip = [\n",
    "    alt.Tooltip(f\"{plot_xvar}:T\", title=\"Date\"),\n",
    "    alt.Tooltip(f\"{plot_yvar}:Q\", title=\"Sales\"),\n",
    "]\n",
    "residual_tooltip = [\n",
    "    alt.Tooltip(f\"{plot_xvar}:T\", title=\"Date\"),\n",
    "    alt.Tooltip(f\"{plot_yvar}:Q\", title=\"Sales\", format=\".1f\"),\n",
    "]\n",
    "corr_plots_tooltip = {}\n",
    "for auto_corr_type in [\"acf\", \"pacf\"]:\n",
    "    plot_tooltip = [\n",
    "        alt.Tooltip(f\"lag:Q\", title=\"lag\"),\n",
    "        alt.Tooltip(f\"high_ci - low_ci:Q\", title=\"CI (Upper-Lower)/2\", format=\".2f\"),\n",
    "        alt.Tooltip(f\"low_ci:Q\", title=\"CI Lower bound\", format=\".2f\"),\n",
    "        alt.Tooltip(f\"{auto_corr_type}:Q\", title=auto_corr_type.upper(), format=\".2f\"),\n",
    "        alt.Tooltip(f\"high_ci:Q\", title=\"CI Upper bound\", format=\".2f\"),\n",
    "    ]\n",
    "    corr_plots_tooltip[auto_corr_type] = plot_tooltip\n",
    "\n",
    "lags = np.arange(lags_range[0], lags_range[1])\n",
    "\n",
    "test_period_length = HORIZON\n",
    "lookahead = GAP + 1"
   ]
  },
  {
   "cell_type": "markdown",
   "id": "262eb9a3",
   "metadata": {},
   "source": [
    "<a id=\"load-data\"></a>\n",
    "\n",
    "## 2. [Load Data](#load-data)"
   ]
  },
  {
   "cell_type": "markdown",
   "id": "dd9ec5ae",
   "metadata": {},
   "source": [
    "<a id=\"read-data\"></a>\n",
    "\n",
    "### 2.1. [Read Data](#read-data)"
   ]
  },
  {
   "cell_type": "code",
   "execution_count": null,
   "id": "e04687c1",
   "metadata": {
    "tags": []
   },
   "outputs": [],
   "source": [
    "%%time\n",
    "data = az_load_data(\n",
    "    blob_dict_inputs,\n",
    "    az_storage_container_name,\n",
    "    [\"date\"],\n",
    "    [\"train\"],\n",
    ")[0]\n",
    "print(f\"Train data shape = {data.shape[0]}\")\n",
    "display(data.head().append(data.tail()))\n",
    "display(data.dtypes.to_frame())"
   ]
  },
  {
   "cell_type": "markdown",
   "id": "79a37a2e",
   "metadata": {},
   "source": [
    "<a id=\"sort-data\"></a>\n",
    "\n",
    "### 2.2. [Sort Data](#read-data)"
   ]
  },
  {
   "cell_type": "code",
   "execution_count": null,
   "id": "b52929e3",
   "metadata": {
    "tags": []
   },
   "outputs": [],
   "source": [
    "%%time\n",
    "multi_col_sort_pipe = Pipeline(\n",
    "    [\n",
    "        (\"sisort\", ct.DFMultiColSort([\"store\", \"item\", \"date\"], [True, True, True])),\n",
    "    ]\n",
    ")\n",
    "data = multi_col_sort_pipe.fit_transform(data)\n",
    "display(data)"
   ]
  },
  {
   "cell_type": "code",
   "execution_count": null,
   "id": "662c6f71",
   "metadata": {
    "tags": []
   },
   "outputs": [],
   "source": [
    "FIRST_DATE = data[\"date\"].min()\n",
    "FIRST_DATE"
   ]
  },
  {
   "cell_type": "markdown",
   "id": "e4913ce2",
   "metadata": {},
   "source": [
    "<a id=\"create-usable-data-by-dropping-observations-in-trailing-gap\"></a>\n",
    "\n",
    "### 2.3. [Create Usable Data by Dropping Observations in Trailing Gap](#create-usable-data-by-dropping-observations-in-trailing-gap)"
   ]
  },
  {
   "cell_type": "code",
   "execution_count": null,
   "id": "81646ba0",
   "metadata": {
    "tags": []
   },
   "outputs": [],
   "source": [
    "train_end_date = data[\"date\"].max() - pd.DateOffset(days=GAP)\n",
    "gap_dates = pd.date_range(train_end_date + pd.DateOffset(days=1), data[\"date\"].max())\n",
    "print(len(gap_dates))\n",
    "data = data[data[\"date\"] <= train_end_date]\n",
    "display(data.head().append(data.tail()))"
   ]
  },
  {
   "cell_type": "markdown",
   "id": "b7aa48ce",
   "metadata": {},
   "source": [
    "<a id=\"create-overall-train-test-splits-,-separated-by-a-gap,-from-usable-data\"></a>\n",
    "\n",
    "### 2.4. [Create Overall Train-Test Splits, separated by a gap, from Usable Data](#create-overall-train-test-splits-,-separated-by-a-gap,-from-usable-data)"
   ]
  },
  {
   "cell_type": "code",
   "execution_count": null,
   "id": "257d5fa5",
   "metadata": {
    "tags": []
   },
   "outputs": [],
   "source": [
    "train_split_end_date = data[\"date\"].max() - pd.DateOffset(days=GAP * 2)\n",
    "gap_dates = pd.date_range(\n",
    "    train_split_end_date + pd.DateOffset(days=1), data[\"date\"].max()\n",
    ")\n",
    "data_train = data[data[\"date\"] <= train_split_end_date]\n",
    "display(data_train.head().append(data_train.tail()))"
   ]
  },
  {
   "cell_type": "markdown",
   "id": "94c454d1",
   "metadata": {},
   "source": [
    "<a id=\"set-multi-index-to-support-cv-splitter\"></a>\n",
    "\n",
    "### 2.5. [Set Multi-Index to Support CV Splitter](#set-multi-index-to-support-cv-splitter)"
   ]
  },
  {
   "cell_type": "code",
   "execution_count": null,
   "id": "403c929b",
   "metadata": {
    "tags": []
   },
   "outputs": [],
   "source": [
    "%%time\n",
    "data = data.assign(\n",
    "    symbol=data[\"store\"].astype(str) + \"_\" + data[\"item\"].astype(str)\n",
    ").set_index([\"symbol\", \"date\"])\n",
    "display(data)"
   ]
  },
  {
   "cell_type": "code",
   "execution_count": null,
   "id": "b74b7266",
   "metadata": {
    "tags": []
   },
   "outputs": [],
   "source": [
    "%%time\n",
    "data_train = data_train.assign(\n",
    "    symbol=data_train[\"store\"].astype(str) + \"_\" + data_train[\"item\"].astype(str)\n",
    ").set_index([\"symbol\", \"date\"])\n",
    "display(data_train)"
   ]
  },
  {
   "cell_type": "markdown",
   "id": "f9fad921",
   "metadata": {},
   "source": [
    "<a id=\"exploratory-data-analysis\"></a>\n",
    "\n",
    "### 2.6. [Exploratory Data Analysis](#exploratory-data-analysis)"
   ]
  },
  {
   "cell_type": "markdown",
   "id": "ddb79316",
   "metadata": {},
   "source": [
    "<a id=\"visualize-historical-sales-for-10-store-item-combos\"></a>\n",
    "\n",
    "#### 2.6.1. [Visualize Historical Sales for 10 store-item combos](#visualize-historical-sales-for-10-store-item-combos)"
   ]
  },
  {
   "cell_type": "markdown",
   "id": "1b7f3008",
   "metadata": {},
   "source": [
    "Visualize data for random store-item combinations"
   ]
  },
  {
   "cell_type": "code",
   "execution_count": null,
   "id": "4177e728",
   "metadata": {
    "tags": []
   },
   "outputs": [],
   "source": [
    "%%time\n",
    "store_item_tsplot_dict = {\n",
    "    \"store\": np.random.randint(1, 10 + 1, size=10),\n",
    "    \"item\": np.random.randint(1, 50 + 1, size=10),\n",
    "}\n",
    "plot_store_item_grid(\n",
    "    data.reset_index(level=1), store_item_tsplot_dict, \"2015\", \"2016\", \"sales\", fig_size=(12, 20)\n",
    ")"
   ]
  },
  {
   "cell_type": "markdown",
   "id": "f97cd9e8",
   "metadata": {},
   "source": [
    "<a id=\"check-normality\"></a>\n",
    "\n",
    "#### 2.6.2. [Check Normality](#check-normality)"
   ]
  },
  {
   "cell_type": "markdown",
   "id": "10d5edb5",
   "metadata": {},
   "source": [
    "Check normality ([1](https://en.wikipedia.org/wiki/Normality_test), [2](https://en.wikipedia.org/wiki/Normal_distribution), [3](https://docs.scipy.org/doc/scipy/reference/generated/scipy.stats.normaltest.html#scipy.stats.normaltest)) of `sales` variable for randomly generated (above) store-item combinations"
   ]
  },
  {
   "cell_type": "code",
   "execution_count": null,
   "id": "1b82527b",
   "metadata": {
    "tags": []
   },
   "outputs": [],
   "source": [
    "%%time\n",
    "for store, item in zip(\n",
    "    store_item_tsplot_dict[\"store\"],\n",
    "    store_item_tsplot_dict[\"item\"],\n",
    "):\n",
    "    df_si = data_train[(data_train[\"store\"]==store) & (data_train[\"item\"]==item)]\n",
    "    is_normal = mlh.check_normality(df_si[\"sales\"])\n",
    "    print(\n",
    "        f\"Are sales for store={store} and item={item} normally distributed \"\n",
    "        f\"at 99% threshold? {is_normal}\"\n",
    "    )"
   ]
  },
  {
   "cell_type": "markdown",
   "id": "3fcf2585",
   "metadata": {},
   "source": [
    "Check normality of `sales` variable for all store-item combinations"
   ]
  },
  {
   "cell_type": "code",
   "execution_count": null,
   "id": "a39642d8",
   "metadata": {
    "tags": []
   },
   "outputs": [],
   "source": [
    "data_train_normal = data_train.merge(\n",
    "    data_train.groupby([\"store\", \"item\"])[\"sales\"]\n",
    "    .apply(mlh.check_normality)\n",
    "    .rename(\"is_normal\")\n",
    "    .to_frame()\n",
    "    .reset_index(),\n",
    "    left_on=[\"store\", \"item\"],\n",
    "    right_on=[\"store\", \"item\"],\n",
    ")\n",
    "display(\n",
    "    data_train_normal[[\"store\", \"item\", \"is_normal\"]]\n",
    "    .head()\n",
    "    .append(data_train_normal[[\"store\", \"item\", \"is_normal\"]].tail())\n",
    ")\n",
    "print(\n",
    "    f\"Number of normally distributed timeseries = {len(data_train_normal.loc[~data_train_normal['is_normal']])}\"\n",
    ")"
   ]
  },
  {
   "cell_type": "markdown",
   "id": "6cfb3e69",
   "metadata": {},
   "source": [
    "<a id=\"timeseries-plots\"></a>\n",
    "\n",
    "#### 2.6.3. [TimeSeries Plots](#timeseries-plots)"
   ]
  },
  {
   "cell_type": "markdown",
   "id": "3c5d2f1e",
   "metadata": {},
   "source": [
    "Visualize datetime attributes for single store-item combination"
   ]
  },
  {
   "cell_type": "code",
   "execution_count": null,
   "id": "89d77f1c",
   "metadata": {
    "tags": []
   },
   "outputs": [],
   "source": [
    "store, item = store_item_tsplot_dict[\"store\"][0], store_item_tsplot_dict[\"item\"][0]\n",
    "train_small = data_train.reset_index(level=1)[\n",
    "    (data_train.reset_index(level=1)[\"store\"] == store)\n",
    "    & (data_train.reset_index(level=1)[\"item\"] == item)\n",
    "]\n",
    "heatmap_grid = altair_datetime_heatmap_grid(\n",
    "    train_small,\n",
    "    date_col=\"date\",\n",
    "    yvar=\"sales\",\n",
    "    ptitle=f\"{heatmap_agg.title()} Sales (store={store}, item={item})\",\n",
    "    marker_linewidth=0.2,\n",
    "    agg=heatmap_agg,\n",
    "    ptitle_x_loc=15,\n",
    "    chart_separation=5,\n",
    "    fig_width=245,\n",
    "    fig_half_heights=(350, 370),\n",
    "    fig_height=750,\n",
    "    cmap=\"yelloworangered\",\n",
    "    scale=\"linear\",\n",
    ")\n",
    "ts_eda_plot = ts_plot(\n",
    "    df=train_small[[\"date\", \"sales\"]],\n",
    "    xvar=plot_xvar,\n",
    "    yvar=plot_yvar,\n",
    "    ts_tooltip=ts_tooltip,\n",
    "    corr_plots_tooltip=corr_plots_tooltip,\n",
    "    line_roll_window=roll_window,\n",
    "    line_linewidth=1.5,\n",
    "    line_roll_stat_linewidth=3,\n",
    "    line_roll_stat_colors=[\"red\", \"black\"],\n",
    "    hist_bin=alt.Bin(step=hist_bin_step_size),\n",
    "    hist_bar_line_thickness=2,\n",
    "    hist_bar_line_color=\"blue\",\n",
    "    hist_line_thickness=2,\n",
    "    n_lags=n_lags,\n",
    "    alpha=alpha,\n",
    "    ci_band_opacity=ci_band_opacity,\n",
    "    corr_plots_wanted=corr_plots_wanted,\n",
    "    corr_plots_marker_size=40,\n",
    "    corr_plots_vertical_line_width=1.5,\n",
    "    corr_plots_marker_linewidth=1.5,\n",
    "    corr_plots_zero_y_linewidth=1.5,\n",
    "    axis_thickness=2,\n",
    "    line_plot_fig_size=fig_size,\n",
    "    hist_plot_fig_size=fig_size,\n",
    "    corr_plots_fig_size=fig_size,\n",
    ")\n",
    "display(heatmap_grid, ts_eda_plot)"
   ]
  },
  {
   "cell_type": "markdown",
   "id": "ea2c169d",
   "metadata": {},
   "source": [
    "<a id=\"cross-validation\"></a>\n",
    "\n",
    "## 3. [Cross Validation](#cross-validation)"
   ]
  },
  {
   "cell_type": "markdown",
   "id": "abc7c937",
   "metadata": {},
   "source": [
    "<a id=\"inspect-cross-validation-folds\"></a>\n",
    "\n",
    "### 3.1. [Inspect Cross-Validation Folds](#inspect-cross-validation-folds)"
   ]
  },
  {
   "cell_type": "code",
   "execution_count": null,
   "id": "99d407e4",
   "metadata": {
    "tags": []
   },
   "outputs": [],
   "source": [
    "cv = MultiTimeSeriesDateSplit(\n",
    "    num_folds=3,\n",
    "    forecast_horizon=test_period_length,\n",
    "    look_ahead_length=lookahead,  # GAP+1\n",
    ")\n",
    "ts_name = f\"{store}_{item}\"\n",
    "df_cv = (\n",
    "    data_train.reset_index()\n",
    "    .sort_values(by=[\"symbol\", \"date\"])\n",
    "    .set_index([\"symbol\", \"date\"])\n",
    ")\n",
    "n_splits = cv.get_n_splits(data_train[categ_fea], data_train[\"sales\"])\n",
    "fig, ax = plt.subplots(figsize=(12, 4))\n",
    "for fold_number, (train_idx, test_idx) in enumerate(cv.split(X=df_cv)):\n",
    "    train_cv, test_cv = df_cv.iloc[train_idx], df_cv.iloc[test_idx]\n",
    "    show_splits(\n",
    "        train_cv,\n",
    "        test_cv,\n",
    "        fold_number + 1,\n",
    "        ts_name,\n",
    "        n_splits,\n",
    "        \"Expanding Window\",\n",
    "        ax,\n",
    "        lw=5,\n",
    "    )"
   ]
  },
  {
   "cell_type": "code",
   "execution_count": null,
   "id": "2416e816",
   "metadata": {
    "tags": []
   },
   "outputs": [],
   "source": [
    "# Training API\n",
    "lgb_params_all = [\n",
    "    {\n",
    "        \"metric\": {\"mae\"},\n",
    "        \"num_leaves\": 10,\n",
    "        \"learning_rate\": 0.02,\n",
    "        \"feature_fraction\": 0.8,\n",
    "        \"max_depth\": 5,\n",
    "        \"verbose\": 0,\n",
    "        \"nthread\": -1,\n",
    "    }\n",
    "]\n",
    "lgb_fit_params = {\n",
    "    \"num_boost_round\": 800,  # 2_200\n",
    "    \"early_stopping_rounds\": 100,  # 200\n",
    "}\n",
    "# # sklearn API\n",
    "# lgb_params_all = {\n",
    "#     # \"metric\": {\"mae\"},  # not available?\n",
    "#     \"num_leaves\": 10,\n",
    "#     \"learning_rate\": 0.02,\n",
    "#     \"colsample_bytree\": 0.8,  # feature_fraction = colsample_bytree\n",
    "#     \"max_depth\": 5,\n",
    "#     # \"verbose\": 0,  # .fit()\n",
    "#     \"n_estimators\": 2_200,\n",
    "#     # \"early_stopping_rounds\": 200,  # .fit()\n",
    "#     \"n_jobs\": -1,\n",
    "# }\n",
    "# lgb_fit_params = {\n",
    "#     \"early_stopping_rounds\": 200,\n",
    "#     \"verbose\": 200,\n",
    "# }"
   ]
  },
  {
   "cell_type": "markdown",
   "id": "944ba854",
   "metadata": {},
   "source": [
    "<a id=\"perform-cross-validation\"></a>\n",
    "\n",
    "### 3.2. [Perform Cross-Validation](#perform-cross-validation)"
   ]
  },
  {
   "cell_type": "code",
   "execution_count": null,
   "id": "e8331cbb",
   "metadata": {
    "tags": []
   },
   "outputs": [],
   "source": [
    "%%time\n",
    "df_cv_summaries = [\n",
    "    pd.DataFrame.from_records(\n",
    "        score_model(\n",
    "            data_train,\n",
    "            cv,\n",
    "            lags,\n",
    "            window_size,\n",
    "            used_columns,\n",
    "            categ_fea,\n",
    "            FIRST_DATE,\n",
    "            GAP,\n",
    "            HORIZON,\n",
    "            lgb_params,\n",
    "            lgbm_smape,  # use lgbm_smape or lgbm_smape_sklearn\n",
    "            lgb_fit_params,\n",
    "        )\n",
    "    )\n",
    "    for lgb_params in lgb_params_all\n",
    "]\n",
    "df_cv_summary = pd.concat(df_cv_summaries)\n",
    "display(df_cv_summary)"
   ]
  },
  {
   "cell_type": "markdown",
   "id": "cc24cffb",
   "metadata": {},
   "source": [
    "<a id=\"get-best-model-hyper-parameters-from-cross-validation\"></a>\n",
    "\n",
    "### 3.3. [Get best Model Hyper-parameters from Cross-Validation](#get-best-model-hyper-parameters-from-cross-validation)"
   ]
  },
  {
   "cell_type": "code",
   "execution_count": null,
   "id": "a4c4057d",
   "metadata": {
    "tags": []
   },
   "outputs": [],
   "source": [
    "best_lgb_params = mlh.get_best_model_hyper_params(df_cv_summary, \"smape\")\n",
    "best_lgb_params"
   ]
  },
  {
   "cell_type": "markdown",
   "id": "14ae69f8",
   "metadata": {},
   "source": [
    "<a id=\"model-evaluation\"></a>\n",
    "\n",
    "## 4. [Model Evaluation](#model-evaluation)"
   ]
  },
  {
   "cell_type": "markdown",
   "id": "4e4fbd93",
   "metadata": {},
   "source": [
    "The ML model will now be instantiated with the best hyper-parameters found during hyper-parameter tuning (using cross-validation) above, and then trained on the overall training split and used to predict the overall testing split"
   ]
  },
  {
   "cell_type": "markdown",
   "id": "dce1a69c",
   "metadata": {},
   "source": [
    "<a id=\"train-on-overall-training-split,-skip-over-gap,-predict-overall-testing-split\"></a>\n",
    "\n",
    "### 4.1. [Train on Overall Training Split, Skip over Gap, Predict Overall Testing Split](#train-on-overall-training-split,-skip-over-gap,-predict-overall-testing-split)"
   ]
  },
  {
   "cell_type": "markdown",
   "id": "c646dd50",
   "metadata": {},
   "source": [
    "With `cv=1`, the usable data created earlier in the subsection **Create Usable Data by Dropping Observations in Trailing Gap** will be re-divided into train and test splits (separated by a gap)\n",
    "- the resulting train and test splits will be identical to the overall training and testing splits (`data_train` and `data_test` respectively) that were created earlier in the subsection **Create Overall Train-Test Splits (separated by Gap) from Usable Data**"
   ]
  },
  {
   "cell_type": "code",
   "execution_count": null,
   "id": "385d7b58",
   "metadata": {},
   "outputs": [],
   "source": [
    "cv = MultiTimeSeriesDateSplit(\n",
    "    num_folds=1,\n",
    "    forecast_horizon=test_period_length,\n",
    "    look_ahead_length=lookahead,  # GAP+1\n",
    ")"
   ]
  },
  {
   "cell_type": "code",
   "execution_count": null,
   "id": "23fd7187",
   "metadata": {
    "tags": []
   },
   "outputs": [],
   "source": [
    "train_idx, test_idx = list(cv.split(data))[0]\n",
    "data_train_redivided = data.iloc[train_idx]\n",
    "data_test_redivided = data.iloc[test_idx]\n",
    "assert data_train_redivided.equals(data_train)"
   ]
  },
  {
   "cell_type": "markdown",
   "id": "eadecd82",
   "metadata": {},
   "source": [
    "Use LGBM with the best hyper-parameters found using hyper-parameter tuning to predict the overall testing split"
   ]
  },
  {
   "cell_type": "code",
   "execution_count": null,
   "id": "a4a4d9b0",
   "metadata": {
    "tags": []
   },
   "outputs": [],
   "source": [
    "%%time\n",
    "scoring_records_summary = score_model(\n",
    "    data,\n",
    "    cv,\n",
    "    lags,\n",
    "    window_size,\n",
    "    used_columns,\n",
    "    categ_fea,\n",
    "    FIRST_DATE,\n",
    "    GAP,\n",
    "    HORIZON,\n",
    "    best_lgb_params,\n",
    "    lgbm_smape,  # use lgbm_smape or lgbm_smape_sklearn\n",
    "    lgb_fit_params,\n",
    ")"
   ]
  },
  {
   "cell_type": "markdown",
   "id": "f69d7c59",
   "metadata": {},
   "source": [
    "<a id=\"retrieve-true-and-predicted-values-of-overall-testing-split\"></a>\n",
    "\n",
    "### 4.2. [Retrieve True and Predicted Values of Overall Testing Split](#retrieve-true-and-predicted-values-of-overall-testing-split)"
   ]
  },
  {
   "cell_type": "code",
   "execution_count": null,
   "id": "35472cc5",
   "metadata": {
    "tags": []
   },
   "outputs": [],
   "source": [
    "y_true = data_test_redivided\n",
    "y_pred = scoring_records_summary[0][\"y_pred\"]\n",
    "assert y_true.index.equals(y_pred.index)"
   ]
  },
  {
   "cell_type": "markdown",
   "id": "8be71228",
   "metadata": {},
   "source": [
    "<a id=\"model-assessment-on-overall-testing-split\"></a>\n",
    "\n",
    "### 4.3. [Model Assessment on Overall Testing Split](#model-assessment-on-overall-testing-split)"
   ]
  },
  {
   "cell_type": "markdown",
   "id": "fca2fceb",
   "metadata": {},
   "source": [
    "**<span style='color:red'>To be done.</span>**"
   ]
  },
  {
   "cell_type": "markdown",
   "id": "873c2ec4",
   "metadata": {},
   "source": [
    "<a id=\"predict-into-the-future\"></a>\n",
    "\n",
    "## 5. [Predict into the Future](#predict-into-the-future)"
   ]
  },
  {
   "cell_type": "markdown",
   "id": "46d675e3",
   "metadata": {},
   "source": [
    "The ML model instantiated above (with the best hyper-parameters) will now be trained on all the available data (excluding a trailing gap) and then used to predict into the future"
   ]
  },
  {
   "cell_type": "markdown",
   "id": "4c9bcd39",
   "metadata": {},
   "source": [
    "<a id=\"read-in-all-data\"></a>\n",
    "\n",
    "### 5.1. [Read in all Data](#read-in-all-data)"
   ]
  },
  {
   "cell_type": "code",
   "execution_count": null,
   "id": "207c7330",
   "metadata": {
    "tags": []
   },
   "outputs": [],
   "source": [
    "%%time\n",
    "data = az_load_data(\n",
    "    blob_dict_inputs,\n",
    "    az_storage_container_name,\n",
    "    [\"date\"],\n",
    "    [\"train\"],\n",
    ")[0]"
   ]
  },
  {
   "cell_type": "markdown",
   "id": "3d8a5359",
   "metadata": {},
   "source": [
    "**Note**\n",
    "1. This is a repeat of section [2.1](#read-data)."
   ]
  },
  {
   "cell_type": "markdown",
   "id": "3823e2b7",
   "metadata": {},
   "source": [
    "<a id=\"sort-all-data\"></a>\n",
    "\n",
    "### 5.2. [Sort all Data](#sort-all-data)"
   ]
  },
  {
   "cell_type": "code",
   "execution_count": null,
   "id": "6cbb4a5f",
   "metadata": {},
   "outputs": [],
   "source": [
    "%%time\n",
    "multi_col_sort_pipe = Pipeline(\n",
    "    [\n",
    "        (\"sisort\", ct.DFMultiColSort([\"store\", \"item\", \"date\"], [True, True, True])),\n",
    "    ]\n",
    ")\n",
    "data = multi_col_sort_pipe.fit_transform(data)"
   ]
  },
  {
   "cell_type": "markdown",
   "id": "cbedadbd",
   "metadata": {},
   "source": [
    "**Note**\n",
    "1. This is a repeat of section [2.2](#read-data)."
   ]
  },
  {
   "cell_type": "markdown",
   "id": "e683cee5",
   "metadata": {},
   "source": [
    "<a id=\"create-usable-data-by-dropping-observations-in-trailing-gap-from-all-data\"></a>\n",
    "\n",
    "### 5.3. [Create Usable Data by Dropping Observations in Trailing Gap from all Data](#create-usable-data-by-dropping-observations-in-trailing-gap-from-all-data)"
   ]
  },
  {
   "cell_type": "code",
   "execution_count": null,
   "id": "dd9e7056",
   "metadata": {
    "tags": []
   },
   "outputs": [],
   "source": [
    "%%time\n",
    "train_end_date = data[\"date\"].max() - pd.DateOffset(days=GAP)\n",
    "data = data[data[\"date\"] <= train_end_date]"
   ]
  },
  {
   "cell_type": "markdown",
   "id": "c32397df",
   "metadata": {},
   "source": [
    "**Note**\n",
    "1. This is a repeat of section [2.3](#create-usable-data-by-dropping-observations-in-trailing-gap)."
   ]
  },
  {
   "cell_type": "markdown",
   "id": "32399da0",
   "metadata": {},
   "source": [
    "<a id=\"set-multi-index-to-support-cv-splitter-for-all-data\"></a>\n",
    "\n",
    "### 5.4. [Set Multi-Index to Support CV Splitter for all Data](#set-multi-index-to-support-cv-splitter-for-all-data)"
   ]
  },
  {
   "cell_type": "code",
   "execution_count": null,
   "id": "1f300061",
   "metadata": {},
   "outputs": [],
   "source": [
    "%%time\n",
    "data = data.assign(\n",
    "    symbol=data[\"store\"].astype(str) + \"_\" + data[\"item\"].astype(str)\n",
    ").set_index([\"symbol\", \"date\"])\n",
    "display(data.head().append(data.tail()))"
   ]
  },
  {
   "cell_type": "markdown",
   "id": "2fa6c600",
   "metadata": {},
   "source": [
    "**Note**\n",
    "1. This is a repeat of section [2.5](#set-multi-index-to-support-cv-splitter)."
   ]
  },
  {
   "cell_type": "markdown",
   "id": "381fc7f7",
   "metadata": {},
   "source": [
    "<a id=\"make-predictions\"></a>\n",
    "\n",
    "### 5.5. [Make Predictions](#make-predictions)"
   ]
  },
  {
   "cell_type": "code",
   "execution_count": null,
   "id": "9c4df377",
   "metadata": {
    "tags": []
   },
   "outputs": [],
   "source": [
    "%%time\n",
    "(\n",
    "    df_pred_test,\n",
    "    trained_model,\n",
    "    train_end_date_manual,\n",
    "    test_start_date_manual,\n",
    "    test_end_date_manual,\n",
    ") = predict_future(\n",
    "    0,\n",
    "    data,\n",
    "    lags,\n",
    "    window_size,\n",
    "    used_columns,\n",
    "    categ_fea,\n",
    "    FIRST_DATE,\n",
    "    GAP,\n",
    "    HORIZON,\n",
    "    pd.DataFrame(),\n",
    "    best_lgb_params,\n",
    "    lgbm_smape,\n",
    "    lgb_fit_params,\n",
    ")\n",
    "assert len(df_pred_test.index.get_level_values(1).unique()) == GAP\n",
    "inference_start_date = train_end_date + pd.DateOffset(days=GAP + 1)\n",
    "inference_end_date = inference_start_date + pd.DateOffset(days=GAP - 1)\n",
    "inference_dates = pd.date_range(inference_start_date, inference_end_date)\n",
    "assert df_pred_test.index.get_level_values(1).unique().equals(inference_dates)\n",
    "assert train_end_date_manual == train_end_date\n",
    "assert test_start_date_manual == inference_dates.min().strftime(\"%Y-%m-%d\")\n",
    "assert test_end_date_manual == inference_dates.max().strftime(\"%Y-%m-%d\")"
   ]
  },
  {
   "cell_type": "markdown",
   "id": "4bdcc7bf",
   "metadata": {},
   "source": [
    "<a id=\"notes\"></a>\n",
    "\n",
    "## 6. [Notes](#notes)"
   ]
  },
  {
   "cell_type": "markdown",
   "id": "1709ca20",
   "metadata": {},
   "source": [
    "1.  Change cross-validation\n",
    "    -   Increase number of cross-validation folds\n",
    "        -   currently, (to reduce computation duration) this is only done with three folds\n",
    "2.  Insignificant differences were observed when using `LightGBM` with and without normalizing/standardizing numerical features, which is not surprising since tree-based models are not distance based and so can handle features on varying scales\n",
    "3.  Since `LightGBM` can handle categoricals (without manually encoding them), explore this direct use of categorical features during ML model development\n",
    "    -   set each (`store` and `item`) of the columns to [an `int` datatype](https://lightgbm.readthedocs.io/en/latest/Python-Intro.html), which can be done by label-encoding them (if they are strings) and specify a list of categorical features to [LightGBM's `categorical_feature` hyperparameter](https://lightgbm.readthedocs.io/en/latest/Parameters.html#categorical_feature) to `.train()` for the learning API ([link](https://lightgbm.readthedocs.io/en/latest/pythonapi/lightgbm.train.html#lightgbm.train)) or `.fit()` for the `sklearn` API ([link](https://lightgbm.readthedocs.io/en/latest/pythonapi/lightgbm.LGBMRegressor.html#lightgbm.LGBMRegressor.fit))."
   ]
  },
  {
   "cell_type": "markdown",
   "id": "4803f3ed",
   "metadata": {},
   "source": [
    "---"
   ]
  },
  {
   "cell_type": "markdown",
   "id": "d6a9030a",
   "metadata": {},
   "source": [
    "<span style=\"float:left\">\n",
    "    2021 | <a href=\"https://github.com/edesz/store-item-forecast\">@edesz</a> (MIT)\n",
    "</span>"
   ]
  }
 ],
 "metadata": {
  "kernelspec": {
   "display_name": "Python 3",
   "language": "python",
   "name": "python3"
  },
  "language_info": {
   "codemirror_mode": {
    "name": "ipython",
    "version": 3
   },
   "file_extension": ".py",
   "mimetype": "text/x-python",
   "name": "python",
   "nbconvert_exporter": "python",
   "pygments_lexer": "ipython3",
   "version": "3.8.5"
  }
 },
 "nbformat": 4,
 "nbformat_minor": 5
}
